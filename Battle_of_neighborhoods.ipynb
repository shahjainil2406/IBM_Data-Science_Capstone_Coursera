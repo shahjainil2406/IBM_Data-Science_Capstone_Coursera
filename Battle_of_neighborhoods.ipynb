{
  "nbformat": 4,
  "nbformat_minor": 0,
  "metadata": {
    "colab": {
      "name": "Battle of neighborhoods.ipynb",
      "provenance": [],
      "toc_visible": true
    },
    "kernelspec": {
      "name": "python3",
      "display_name": "Python 3"
    },
    "accelerator": "GPU"
  },
  "cells": [
    {
      "cell_type": "markdown",
      "metadata": {
        "id": "AYHNoTpjvOkG",
        "colab_type": "text"
      },
      "source": [
        "# Battle of Neighborhoods\n"
      ]
    },
    {
      "cell_type": "markdown",
      "metadata": {
        "id": "m02gl4MYvSpb",
        "colab_type": "text"
      },
      "source": [
        "## Discription of problem:"
      ]
    },
    {
      "cell_type": "markdown",
      "metadata": {
        "id": "IOLgTtIbvWk2",
        "colab_type": "text"
      },
      "source": [
        "The problem we are dealing with is that if we were to open up a store in an area one would have to decide upon a number of factors.\n",
        "One of those factors is the local competition. If one was to open up a store for example a food store in an area where there are already 20+ stores present then the opening up of a new store might not have a great impact. There is another way to look at this which is that from the size of current market you can judge that how big a particular industry is in that market. For exapmle if you have a different idea or approch for your idea you can reap larger profits if you enter a region where food interests a larger number of people."
      ]
    },
    {
      "cell_type": "markdown",
      "metadata": {
        "id": "ulMyYuCzvYm_",
        "colab_type": "text"
      },
      "source": [
        "## Discription of data:\n",
        "I will be using the new york data provided by Capstone in an earlier assignment and the toronto data obtained from foursquare in order reach upon a particular conclusion."
      ]
    },
    {
      "cell_type": "markdown",
      "metadata": {
        "id": "TpwMFYehvkQa",
        "colab_type": "text"
      },
      "source": [
        "## Methodology:\n",
        "I will use the foursqaure database in order to find the areas of interest in Manhattan and Toronto and after obtaining those areas of interest I will be performing cluster analysis in order to segment the areas of interest.\n",
        "After the clustering we can study in detail about the interests and market size for indiviadual cities and are thier any markets which are absent in one and which could be exploited.\n",
        "Is any market already saturated such that exploiting that any further might not give out a reasonable profit."
      ]
    },
    {
      "cell_type": "code",
      "metadata": {
        "id": "ZMIPkTPxvnjO",
        "colab_type": "code",
        "colab": {}
      },
      "source": [
        "import pandas as pd\n",
        "import numpy as np\n",
        "import requests as req\n",
        "from bs4 import BeautifulSoup as bs"
      ],
      "execution_count": null,
      "outputs": []
    },
    {
      "cell_type": "code",
      "metadata": {
        "id": "I4snCFcxvo1A",
        "colab_type": "code",
        "colab": {}
      },
      "source": [
        "url = \"https://en.wikipedia.org/wiki/List_of_postal_codes_of_Canada:_M\"\n",
        "torronto = req.get(url)"
      ],
      "execution_count": null,
      "outputs": []
    },
    {
      "cell_type": "code",
      "metadata": {
        "id": "2v9g86Qhv2_i",
        "colab_type": "code",
        "colab": {}
      },
      "source": [
        "torronto.status_code"
      ],
      "execution_count": null,
      "outputs": []
    },
    {
      "cell_type": "code",
      "metadata": {
        "id": "jSL2xULqv524",
        "colab_type": "code",
        "colab": {}
      },
      "source": [
        "# Extracting content from the given data\n",
        "torronto_data = torronto.content"
      ],
      "execution_count": null,
      "outputs": []
    },
    {
      "cell_type": "code",
      "metadata": {
        "id": "chI6AuNrv8AI",
        "colab_type": "code",
        "colab": {}
      },
      "source": [
        "# Converting to lxml form using BeautifulSoup\n",
        "torronto_data = bs(torronto_data, \"lxml\")"
      ],
      "execution_count": null,
      "outputs": []
    },
    {
      "cell_type": "code",
      "metadata": {
        "id": "vnn1i4Txv-X6",
        "colab_type": "code",
        "colab": {}
      },
      "source": [
        "#taking out the data we need\n",
        "def func(soup):\n",
        "  links = soup.find_all(\"td\")\n",
        "  i = []\n",
        "  nn = []\n",
        "  nn1=[]\n",
        "  c=0\n",
        "  for l in links:\n",
        "      l = str(l)\n",
        "      if len(l) >= 500: #we know the biggest sentance/address is around 150 words so we do this to avoid useless iterations\n",
        "          break\n",
        "      if len(l) == 13:\n",
        "          i.append(l[4:-6])   # we eliminate the <td> and </td> present at the starting and ending therefore giving us the entire sentance\n",
        "      else:\n",
        "          if c==0:\n",
        "              nn.append(l[4:-6])\n",
        "              c+=1\n",
        "          else:\n",
        "              nn1.append(l[4:-6])\n",
        "              c=0\n",
        "  return(i,nn,nn1)"
      ],
      "execution_count": null,
      "outputs": []
    },
    {
      "cell_type": "code",
      "metadata": {
        "id": "F76uKWApwD23",
        "colab_type": "code",
        "colab": {}
      },
      "source": [
        "# Converting to dataframe\n",
        "i,nn,nn1 = func(torronto_data)\n",
        "\n",
        "torr = pd.DataFrame({\n",
        "    \"Postal Code\":i,\n",
        "    \"Borough\":nn,\n",
        "    \"Neighborhood\":nn1\n",
        "},columns = [\"Postal Code\",\"Borough\",\"Neighborhood\"])"
      ],
      "execution_count": null,
      "outputs": []
    },
    {
      "cell_type": "code",
      "metadata": {
        "id": "SBJ2QOTKwJXE",
        "colab_type": "code",
        "colab": {}
      },
      "source": [
        "# Considering only those values for which Not Assigned is not there\n",
        "df2 = torr[torr[\"Borough\"]!=\"Not assigned\"]\n",
        "df2 = df2.reset_index(drop = True)"
      ],
      "execution_count": null,
      "outputs": []
    },
    {
      "cell_type": "code",
      "metadata": {
        "id": "jeF2AIiHwKwK",
        "colab_type": "code",
        "colab": {}
      },
      "source": [
        "# checking for null values\n",
        "df2[\"Neighborhood\"].isnull().value_counts()"
      ],
      "execution_count": null,
      "outputs": []
    },
    {
      "cell_type": "code",
      "metadata": {
        "id": "_u40O3R2wMUN",
        "colab_type": "code",
        "colab": {}
      },
      "source": [
        "!pip install geocoder\n",
        "!pip install geopy\n",
        "import geocoder\n",
        "from geopy.geocoders import Nominatim"
      ],
      "execution_count": null,
      "outputs": []
    },
    {
      "cell_type": "code",
      "metadata": {
        "id": "Ure8Fey0wOEl",
        "colab_type": "code",
        "colab": {}
      },
      "source": [
        "loca = pd.read_csv(\"Geospatial_Coordinates.csv\")\n",
        "loca.head()"
      ],
      "execution_count": null,
      "outputs": []
    },
    {
      "cell_type": "code",
      "metadata": {
        "id": "IQnS80_ywQnh",
        "colab_type": "code",
        "colab": {}
      },
      "source": [
        "final = pd.merge(df2,loca[[\"Postal Code\",\"Latitude\",\"Longitude\"]], on = 'Postal Code')\n",
        "final.head()"
      ],
      "execution_count": null,
      "outputs": []
    },
    {
      "cell_type": "code",
      "metadata": {
        "id": "sb5l3ItvxJnv",
        "colab_type": "code",
        "colab": {}
      },
      "source": [
        "final.shape"
      ],
      "execution_count": null,
      "outputs": []
    },
    {
      "cell_type": "code",
      "metadata": {
        "id": "uHeRiky3xajs",
        "colab_type": "code",
        "colab": {}
      },
      "source": [
        ""
      ],
      "execution_count": null,
      "outputs": []
    }
  ]
}